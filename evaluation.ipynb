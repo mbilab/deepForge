{
 "cells": [
  {
   "cell_type": "code",
   "execution_count": null,
   "metadata": {},
   "outputs": [],
   "source": [
    "from utils.evaluation_tool import Evaluator, Sampler\n",
    "\n",
    "batch_size = 30\n",
    "c = Evaluator('./outputs/19_inception_G1D10_model_100000iter/models/G50000.hdf5',\n",
    "              './outputs/19_inception_G1D10_model_100000iter/models/G_mask50000.hdf5')\n",
    "s = Sampler()"
   ]
  },
  {
   "cell_type": "code",
   "execution_count": null,
   "metadata": {},
   "outputs": [],
   "source": [
    "import numpy as np\n",
    "images, digits = s.sample_by_digit(digit=1, index=np.r_[:2])\n",
    "c.run(images, [4]*len(images))\n",
    "print(c.score())"
   ]
  },
  {
   "cell_type": "code",
   "execution_count": null,
   "metadata": {},
   "outputs": [],
   "source": [
    "c.plot_all(dpi=64, wspace=.05)"
   ]
  }
 ],
 "metadata": {
  "kernelspec": {
   "display_name": "Python 3",
   "language": "python",
   "name": "python3"
  },
  "language_info": {
   "codemirror_mode": {
    "name": "ipython",
    "version": 3
   },
   "file_extension": ".py",
   "mimetype": "text/x-python",
   "name": "python",
   "nbconvert_exporter": "python",
   "pygments_lexer": "ipython3",
   "version": "3.6.8"
  }
 },
 "nbformat": 4,
 "nbformat_minor": 4
}
